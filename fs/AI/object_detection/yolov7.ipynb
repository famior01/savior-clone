{
 "cells": [
  {
   "cell_type": "markdown",
   "metadata": {},
   "source": [
    "## **Models**"
   ]
  },
  {
   "cell_type": "markdown",
   "metadata": {},
   "source": [
    "#### ***All models are being trained on Colab, all links are below***\n",
    "- **NO model trained here**\n",
    "---\n",
    "1. `all.pt`= it's a pretrained model of yolov7x, it can detect many thing \n",
    "2. [curtain.pt](https://colab.research.google.com/drive/1RUQ69SwrPf7IOx_ER9d4gFWqE1K7ggK7?usp=sharing) has been trained on colab"
   ]
  },
  {
   "cell_type": "markdown",
   "metadata": {},
   "source": [
    "# **Information**"
   ]
  },
  {
   "cell_type": "code",
   "execution_count": 1,
   "metadata": {},
   "outputs": [
    {
     "name": "stdout",
     "output_type": "stream",
     "text": [
      "Python version: 3.10.4 (tags/v3.10.4:9d38120, Mar 23 2022, 23:13:41) [MSC v.1929 64 bit (AMD64)], sys.version_info(major=3, minor=10, micro=4, releaselevel='final', serial=0) \n",
      "Pytorch version: 1.12.1+cpu \n"
     ]
    }
   ],
   "source": [
    "import sys  \n",
    "import torch\n",
    "print(f\"Python version: {sys.version}, {sys.version_info} \")\n",
    "print(f\"Pytorch version: {torch.__version__} \")"
   ]
  },
  {
   "cell_type": "markdown",
   "metadata": {},
   "source": [
    "# testing of models\n"
   ]
  },
  {
   "cell_type": "code",
   "execution_count": 5,
   "metadata": {},
   "outputs": [
    {
     "data": {
      "text/plain": [
       "'C:\\\\Product\\\\FS\\\\Models\\\\YOLOv7\\\\yolov7'"
      ]
     },
     "execution_count": 5,
     "metadata": {},
     "output_type": "execute_result"
    }
   ],
   "source": [
    "import os \n",
    "os.chdir(r'C:\\Product\\FS\\Models\\YOLOv7\\yolov7')\n",
    "%pwd"
   ]
  },
  {
   "cell_type": "code",
   "execution_count": 13,
   "metadata": {},
   "outputs": [],
   "source": [
    "import torch"
   ]
  },
  {
   "cell_type": "code",
   "execution_count": 20,
   "metadata": {},
   "outputs": [
    {
     "ename": "TypeError",
     "evalue": "Device() received an invalid combination of arguments - got (), but expected one of:\n * (torch.device device)\n * (str type, int index)\n",
     "output_type": "error",
     "traceback": [
      "\u001b[1;31m---------------------------------------------------------------------------\u001b[0m",
      "\u001b[1;31mTypeError\u001b[0m                                 Traceback (most recent call last)",
      "\u001b[1;32mc:\\Product\\FS\\Models\\YOLOv7\\yolov7.ipynb Cell 8\u001b[0m in \u001b[0;36m<cell line: 4>\u001b[1;34m()\u001b[0m\n\u001b[0;32m      <a href='vscode-notebook-cell:/c%3A/Product/FS/Models/YOLOv7/yolov7.ipynb#W6sZmlsZQ%3D%3D?line=1'>2</a>\u001b[0m \u001b[39mfrom\u001b[39;00m \u001b[39myolov7\u001b[39;00m\u001b[39m.\u001b[39;00m\u001b[39mmodels\u001b[39;00m\u001b[39m.\u001b[39;00m\u001b[39mexperimental\u001b[39;00m \u001b[39mimport\u001b[39;00m attempt_load\n\u001b[0;32m      <a href='vscode-notebook-cell:/c%3A/Product/FS/Models/YOLOv7/yolov7.ipynb#W6sZmlsZQ%3D%3D?line=2'>3</a>\u001b[0m device \u001b[39m=\u001b[39m torch\u001b[39m.\u001b[39mdevice(\u001b[39m'\u001b[39m\u001b[39mcpu\u001b[39m\u001b[39m'\u001b[39m)\n\u001b[1;32m----> <a href='vscode-notebook-cell:/c%3A/Product/FS/Models/YOLOv7/yolov7.ipynb#W6sZmlsZQ%3D%3D?line=3'>4</a>\u001b[0m model \u001b[39m=\u001b[39m attempt_load(\u001b[39m'\u001b[39m\u001b[39myolov7.pt\u001b[39m\u001b[39m'\u001b[39m, map_location\u001b[39m=\u001b[39mtorch\u001b[39m.\u001b[39;49mdevice())  \u001b[39m# load FP32 model\u001b[39;00m\n\u001b[0;32m      <a href='vscode-notebook-cell:/c%3A/Product/FS/Models/YOLOv7/yolov7.ipynb#W6sZmlsZQ%3D%3D?line=4'>5</a>\u001b[0m \u001b[39mwith\u001b[39;00m torch\u001b[39m.\u001b[39mno_grad():   \n\u001b[0;32m      <a href='vscode-notebook-cell:/c%3A/Product/FS/Models/YOLOv7/yolov7.ipynb#W6sZmlsZQ%3D%3D?line=5'>6</a>\u001b[0m     model(\u001b[39m'\u001b[39m\u001b[39m../home/13830.0.jpg\u001b[39m\u001b[39m'\u001b[39m)\n",
      "\u001b[1;31mTypeError\u001b[0m: Device() received an invalid combination of arguments - got (), but expected one of:\n * (torch.device device)\n * (str type, int index)\n"
     ]
    }
   ],
   "source": [
    "# load yolov7 method\n",
    "from yolov7.models.experimental import attempt_load\n",
    "device = torch.device('cpu')\n",
    "model = attempt_load('yolov7.pt', map_location=torch.device())  # load FP32 model\n",
    "with torch.no_grad():   \n",
    "    model('../home/13830.0.jpg')"
   ]
  },
  {
   "cell_type": "markdown",
   "metadata": {},
   "source": [
    "## **Integration of Models**"
   ]
  },
  {
   "cell_type": "code",
   "execution_count": 1,
   "metadata": {},
   "outputs": [],
   "source": [
    "# https://github.com/augmentedstartups/OfficialYOLOv7Course/blob/main/1.%20Run%20YOLOv7%20in%20Colab/RunYOLOv7.ipynb\n",
    "\n",
    "# check out this repo if wanna laod yolov7 model"
   ]
  },
  {
   "attachments": {},
   "cell_type": "markdown",
   "metadata": {},
   "source": [
    "#### Convert .txt>.csv> Objects Name in DataFrame"
   ]
  },
  {
   "cell_type": "code",
   "execution_count": 1,
   "metadata": {},
   "outputs": [],
   "source": [
    "objects = 'C:/Product/Savior/fs/AI/YOLOv7/objects.txt'\n",
    "csv = 'C:/Product/Savior/fs/AI/YOLOv7/objects.csv'"
   ]
  },
  {
   "cell_type": "code",
   "execution_count": 4,
   "metadata": {},
   "outputs": [
    {
     "data": {
      "text/plain": [
       "{'Washine-Machine': 1,\n",
       " 'Tabel': 1,\n",
       " 'chair': 1,\n",
       " 'couch': 1,\n",
       " 'refrigerator': 1,\n",
       " 'microwave': 1,\n",
       " 'bottle': 1,\n",
       " 'potted plant': 1,\n",
       " 'tv': 1,\n",
       " 'bed': 1,\n",
       " 'sink': 1,\n",
       " 'motorcycle': 1,\n",
       " 'tie': 1,\n",
       " 'chairs': 3,\n",
       " 'couchs': 2,\n",
       " 'dining table': 1}"
      ]
     },
     "execution_count": 4,
     "metadata": {},
     "output_type": "execute_result"
    }
   ],
   "source": [
    "import pandas as pd\n",
    "read_file = pd.read_csv(objects)\n",
    "read_file.to_csv(csv, index=None, header=True)\n",
    "\n",
    "\n",
    "df = pd.read_csv(csv) # read csv file\n",
    "df = df[df.iloc[:,0].str.contains('sample.mp4')] # get only those which has this\n",
    "df.iloc[:,0]=df.iloc[:,0].str.split(\": \", expand = True)[1] # then split, and get Object\n",
    "\n",
    "df = df[-df.iloc[:,0].str.startswith('Done')] # remove those which start with Done\n",
    "\n",
    "df = df.drop_duplicates() \n",
    "df.fillna('', inplace=True) \n",
    "\n",
    "# concatinate all columns with comma\n",
    "mdf = df.iloc[:,0]\n",
    "for i in range(1, len(df.columns)):\n",
    "  mdf = mdf.str.cat(df.iloc[:,i],sep=\",\")\n",
    "\n",
    "mdf = mdf.str.split('Done.', expand=True)[0] # get object till Done\n",
    "\n",
    "mdf = mdf.drop_duplicates()\n",
    "\n",
    "mdf = mdf.str.strip()\n",
    "\n",
    "mdf = mdf.str.cat(sep=\",\")  # concatinate all rows with comma\n",
    "\n",
    "mdf = mdf.split(',') # split with comma\n",
    "\n",
    "mdf = [i for i in mdf if i] # remove empty strings\n",
    "\n",
    "# Here we are creating a dictionary with key as object and value as count, Here plural nouns is the last latest value \n",
    "items = {}\n",
    "for i in range(len(mdf)):\n",
    "  value = int(mdf[i][0:2].strip())\n",
    "  key = mdf[i][2:].strip()\n",
    "  items[key] = value\n",
    "\n",
    "items"
   ]
  },
  {
   "cell_type": "code",
   "execution_count": null,
   "metadata": {},
   "outputs": [],
   "source": [
    "'bicycle'1, 'car'2, 'motorcycle'3, 'bird'14, 'cat'15, 'dog'16, 'horse'17, 'sheep'18, 'cow'19, 'umbrella'25, 'handbag'26, 'suitcase'28, 'pizza'53, 'cake'55, 'chair'56, 'couch'57,'potted plant'58, 'bed'59, 'dining table'60, 'toilet'61, 'tv'62, 'laptop'63, 'cell phone'67,'microwave'68, 'oven'69, 'toaster'70, 'sink'71, 'refrigerator'72, 'clock'74,'hair drier'78, \n",
    "Group-1: Curtain, Lampe, Celling-Fan, Chandelier, Stand-Fan, UPS \n",
    "Group-2: Generator, Sewing-Machine, Tabel, Washine-Machine, Wifi-Router \n",
    "Group-3: Iron, AC, Vacuum-Cleaner, Showcase, tablet, Wardrobe"
   ]
  },
  {
   "cell_type": "code",
   "execution_count": 1,
   "metadata": {},
   "outputs": [],
   "source": [
    "# Here, these are those objects which are commonly present in the Middle class family, so if we found any of these objects in the video, we will count them as 0, else we will count them as a particular number according to the percentage of its existance in the middel class family from 1-10. (1 means 10% and 10 means 100%) \n",
    "objects = {'person':0,'couch':10, 'cat':1, 'suitcase':5, 'chair':8, 'potted plant':5, 'bed':10, 'dining table':5, 'toilet':1, 'tv':10, 'laptop':5, 'microwave':7, 'oven':6, 'sink':5, 'refrigerator':10, 'clock':5, \"Curtain\": 5, \"Lampe\": 1, \"Celling-Fan\": 1, \"Chandelier\": 1, \"Stand-Fan\": 1, \"UPS\": 1, \"Generator\": 1, \"Sewing-Machine\": 2, \"Tabel\": 5, \"Washine-Machine\": 10, \"Wifi-Router\": 1, \"Iron\": 5, \"AC\": 5, \"Vacuum-Cleaner\": 5, \"Showcase\": 8, \"tablet\": 1, \"Wardrobe\": 10}"
   ]
  },
  {
   "cell_type": "markdown",
   "metadata": {},
   "source": [
    "### Example"
   ]
  },
  {
   "cell_type": "code",
   "execution_count": 7,
   "metadata": {},
   "outputs": [
    {
     "name": "stdout",
     "output_type": "stream",
     "text": [
      "[0, 0, 0, 0, 8, 5, 10, 5, 1, 10, 5, 7, 6, 5, 0, 0, 0, 0, 0, 0, 0, 1, 1, 2, 5, 0, 1, 5, 5, 0, 8, 1, 10]\n",
      "0.6474358974358975\n",
      "Failed\n"
     ]
    }
   ],
   "source": [
    "result = {\"Washine-Machine\": 10,'person':0,'couch':10, 'cat':1, 'suitcase':5, \"Vacuum-Cleaner\": 5,'refrigerator':10, 'clock':5, \"Curtain\": 5, \"Lampe\": 1, \"Celling-Fan\": 1, \"Chandelier\": 1, \"Stand-Fan\": 1,}\n",
    "\n",
    "scores = []\n",
    "for i in objects.keys():\n",
    "  if i in result.keys(): # if family has object, assign 0\n",
    "    scores.append(0)\n",
    "  else:\n",
    "    scores.append(objects[i]) # else assign score\n",
    "\n",
    "print(scores)\n",
    "per = sum(scores)/sum(objects.values())\n",
    "if per > 80:  # This family should not have almost 80% objects, which are found in the middle class family\n",
    "  print(per)\n",
    "else:\n",
    "  print(per)\n",
    "  print('Failed')"
   ]
  },
  {
   "attachments": {},
   "cell_type": "markdown",
   "metadata": {},
   "source": [
    "### Example 2"
   ]
  },
  {
   "cell_type": "code",
   "execution_count": 139,
   "metadata": {},
   "outputs": [
    {
     "name": "stdout",
     "output_type": "stream",
     "text": [
      "[0, 10, 1, 5, 8, 5, 10, 5, 1, 10, 5, 7, 6, 5, 10, 5, 0, 0, 0, 0, 0, 1, 1, 2, 5, 0, 1, 5, 5, 5, 8, 1, 10]\n",
      "87\n",
      "Passed\n"
     ]
    }
   ],
   "source": [
    "# conditions\n",
    "# if dictionay is empty, return 0\n",
    "# if dictionary has one object return 0\n",
    "# if dictionary has more than one object, return 1\n",
    "\n",
    "result = {\"Washine-Machine\": 10,'person':0, \"Curtain\": 5, \"Lampe\": 1, \n",
    "\"Celling-Fan\": 1, \"Chandelier\": 1, \"Stand-Fan\": 1,}\n",
    "\n",
    "scores = []\n",
    "if not result or len(result) <= 2: # if dictionary is empty or has one object, means wrong video has been uploaded\n",
    "  print(\"Upload right video\")\n",
    "else:\n",
    "  for i in objects.keys():\n",
    "    if i in result.keys(): # if family has object, assign 0\n",
    "      scores.append(0)\n",
    "    else:\n",
    "      scores.append(objects[i])\n",
    "\n",
    "  print(scores)\n",
    "  per = int(sum(scores)/sum(objects.values())*100)\n",
    "  if per > 80:  # This family should not have almost 80% objects, which are found in the middle class family\n",
    "    print(per) \n",
    "    print('Passed')\n",
    "  else:\n",
    "    print('Failed')"
   ]
  },
  {
   "cell_type": "code",
   "execution_count": 92,
   "metadata": {},
   "outputs": [
    {
     "name": "stdout",
     "output_type": "stream",
     "text": [
      "hi\n"
     ]
    }
   ],
   "source": [
    "print(\"hi\")"
   ]
  },
  {
   "cell_type": "code",
   "execution_count": 141,
   "metadata": {},
   "outputs": [
    {
     "name": "stdout",
     "output_type": "stream",
     "text": [
      "hi\n"
     ]
    }
   ],
   "source": [
    "a = 'babo'\n",
    "if a:\n",
    "  print('hi')"
   ]
  },
  {
   "attachments": {},
   "cell_type": "markdown",
   "metadata": {},
   "source": [
    "### algorithm to get frame"
   ]
  },
  {
   "cell_type": "code",
   "execution_count": 8,
   "metadata": {},
   "outputs": [
    {
     "name": "stdout",
     "output_type": "stream",
     "text": [
      "*********** 5 ***********\n"
     ]
    }
   ],
   "source": [
    "\"\"\"Suppose vidoe of 24 fps, and I need to get frames with respect to fps and length of video\n",
    "        \n",
    "        np.linspace(0,1,24)\n",
    "        array([0.        , 0.04347826, 0.08695652, 0.13043478, 0.17391304,\n",
    "        0.2173913 , 0.26086957, 0.30434783, 0.34782609, 0.39130435,\n",
    "        0.43478261, 0.47826087, 0.52173913, 0.56521739, 0.60869565,\n",
    "        0.65217391, 0.69565217, 0.73913043, 0.7826087 , 0.82608696,\n",
    "        0.86956522, 0.91304348, 0.95652174, 1.        ])\n",
    "\n",
    "        if video is less than 30 sec, return error!\n",
    "        if video is less than 60 sec, then frame after sec = each 5th frame\n",
    "        if video is less than 90 sec, then frame after sec = each 10th frame\n",
    "        if video is less than 120 sec, then frame after sec = each 15th  \n",
    "        if video is less than 150 sec, then frame after sec = each 20th\n",
    "        if video is less than 180 sec, then frame after sec = each 22th\n",
    "        if video is greater than 180 sec, then frame after sec = each 24th\n",
    "        \"\"\""
   ]
  },
  {
   "cell_type": "code",
   "execution_count": 2,
   "metadata": {},
   "outputs": [
    {
     "name": "stdout",
     "output_type": "stream",
     "text": [
      "*********** 0.9523809523809523 ***********\n"
     ]
    }
   ],
   "source": [
    "# three rooms covers in 82 seconds\n",
    "# one Empty with more than 3 objects should take more than 10 seconds\n",
    "'''\n",
    "if video is less than 30, return same video\n",
    "if video is less than 60 sec, \n",
    "'''\n",
    "import numpy as np\n",
    "fps = 22\n",
    "objects = True\n",
    "length_of_video = 34\n",
    "rangee = np.linspace(0,1,fps)\n",
    "if objects and length_of_video<=10: \n",
    "    print(\"Error! Video is too short\")\n",
    "\n",
    "elif objects and length_of_video <30: \n",
    "    fps = \"Same\"\n",
    "    # return video\n",
    "    print(\"***********\", fps, \"***********\")\n",
    "elif objects and length_of_video <40: # little bit more than 40 frames\n",
    "    fps = rangee[-2] # last seecond part of \n",
    "    print(\"***********\", fps, \"***********\")\n",
    "elif objects and length_of_video <60: \n",
    "    fps = rangee[2]\n",
    "    print(\"***********\", fps, \"***********\")\n",
    "elif objects and length_of_video <90:\n",
    "    fps = rangee[len(rangee)//2]\n",
    "\n",
    "    print(\"*************\", fps, \"*************\")\n",
    "elif objects and length_of_video <120:\n",
    "    fps = rangee[4]\n",
    "\n",
    "    print(\"*************\", fps, \"*************\")\n",
    "elif objects and length_of_video <150:\n",
    "    fps = rangee[-3]\n",
    "\n",
    "    print(\"*************\", fps, \"*************\")\n",
    "elif objects and length_of_video <180:\n",
    "    fps = rangee[-2]\n",
    "    print(\"*************\", fps, \"*************\")\n",
    "else:\n",
    "    fps= rangee[-1]\n",
    "    print(\"*************\", fps, \"*************\")"
   ]
  },
  {
   "cell_type": "code",
   "execution_count": 70,
   "metadata": {},
   "outputs": [
    {
     "data": {
      "text/plain": [
       "7"
      ]
     },
     "execution_count": 70,
     "metadata": {},
     "output_type": "execute_result"
    }
   ],
   "source": []
  },
  {
   "cell_type": "code",
   "execution_count": 9,
   "metadata": {},
   "outputs": [
    {
     "data": {
      "text/plain": [
       "'abuubaida01'"
      ]
     },
     "execution_count": 9,
     "metadata": {},
     "output_type": "execute_result"
    }
   ],
   "source": [
    "# username \n",
    "a = 'abuubaida01_11124214'\n",
    "b = a.split('_')[0]\n",
    "b"
   ]
  },
  {
   "cell_type": "code",
   "execution_count": null,
   "metadata": {},
   "outputs": [],
   "source": []
  }
 ],
 "metadata": {
  "kernelspec": {
   "display_name": "svenv",
   "language": "python",
   "name": "python3"
  },
  "language_info": {
   "codemirror_mode": {
    "name": "ipython",
    "version": 3
   },
   "file_extension": ".py",
   "mimetype": "text/x-python",
   "name": "python",
   "nbconvert_exporter": "python",
   "pygments_lexer": "ipython3",
   "version": "3.10.7"
  },
  "orig_nbformat": 4,
  "vscode": {
   "interpreter": {
    "hash": "5804711bf259911e4817a7d119b41abee8ce15956f0c610202b7e1c42a314705"
   }
  }
 },
 "nbformat": 4,
 "nbformat_minor": 2
}
